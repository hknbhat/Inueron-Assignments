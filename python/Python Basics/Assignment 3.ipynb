{
 "cells": [
  {
   "cell_type": "code",
   "execution_count": null,
   "id": "2950bbb5",
   "metadata": {},
   "outputs": [],
   "source": [
    "1. Why are functions advantageous to have in your programs?"
   ]
  },
  {
   "cell_type": "markdown",
   "id": "740934c2",
   "metadata": {},
   "source": [
    "Functions helps us to reduce the time required to re-write the code\n",
    "it also helps us in reusability of the code whenever or wherever it is required.\n",
    "Reduces the occurance of error in code typing."
   ]
  },
  {
   "cell_type": "code",
   "execution_count": null,
   "id": "482ba0e5",
   "metadata": {},
   "outputs": [],
   "source": [
    "2. When does the code in a function run: when it's specified or when it's called?"
   ]
  },
  {
   "cell_type": "markdown",
   "id": "8ebf2860",
   "metadata": {},
   "source": [
    " Theo code writtten in a Function executes when it is called not when it is specified."
   ]
  },
  {
   "cell_type": "code",
   "execution_count": null,
   "id": "bfb236da",
   "metadata": {},
   "outputs": [],
   "source": [
    "3. What statement creates a function?"
   ]
  },
  {
   "cell_type": "markdown",
   "id": "6f3028c4",
   "metadata": {},
   "source": [
    "def is the statement which created the function"
   ]
  },
  {
   "cell_type": "code",
   "execution_count": null,
   "id": "127b17a5",
   "metadata": {},
   "outputs": [],
   "source": [
    "4. What is the difference between a function and a function call?"
   ]
  },
  {
   "cell_type": "markdown",
   "id": "6cfc94a1",
   "metadata": {},
   "source": [
    "Function is initially defined when we need the repetative code elsewhere, function call is the process of runnnig the specifc function with the value."
   ]
  },
  {
   "cell_type": "code",
   "execution_count": null,
   "id": "9c9268ae",
   "metadata": {},
   "outputs": [],
   "source": [
    "5. How many global scopes are there in a Python program? How many local scopes?"
   ]
  },
  {
   "cell_type": "markdown",
   "id": "4eda784c",
   "metadata": {},
   "source": [
    "there is one global scope in python program per execution, local scopes can be any no's which are defined inside that function "
   ]
  },
  {
   "cell_type": "code",
   "execution_count": null,
   "id": "12c5c511",
   "metadata": {},
   "outputs": [],
   "source": [
    "6. What happens to variables in a local scope when the function call returns?"
   ]
  },
  {
   "cell_type": "markdown",
   "id": "7694fcb3",
   "metadata": {},
   "source": [
    "local variables will not be in the use when the function call returns"
   ]
  },
  {
   "cell_type": "code",
   "execution_count": null,
   "id": "be2427c8",
   "metadata": {},
   "outputs": [],
   "source": [
    "7. What is the concept of a return value? Is it possible to have a return value in an expression?"
   ]
  },
  {
   "cell_type": "markdown",
   "id": "f160e207",
   "metadata": {},
   "source": [
    "whenever we need the output which we dont want to print at that instance we can use the function called as return, which yeilds the return value in terms of expression "
   ]
  },
  {
   "cell_type": "code",
   "execution_count": null,
   "id": "d2cc612f",
   "metadata": {},
   "outputs": [],
   "source": [
    "8. If a function does not have a return statement, what is the return value of a call to that function?"
   ]
  },
  {
   "cell_type": "markdown",
   "id": "2baa523b",
   "metadata": {},
   "source": [
    "if we have not written the function return, then the value returned is none"
   ]
  },
  {
   "cell_type": "code",
   "execution_count": null,
   "id": "95b01a13",
   "metadata": {},
   "outputs": [],
   "source": [
    "9. How do you make a function variable refer to the global variable?"
   ]
  },
  {
   "cell_type": "markdown",
   "id": "afcac1a6",
   "metadata": {},
   "source": []
  },
  {
   "cell_type": "code",
   "execution_count": null,
   "id": "c6683f42",
   "metadata": {},
   "outputs": [],
   "source": [
    "10. What is the data type of None?"
   ]
  },
  {
   "cell_type": "code",
   "execution_count": 5,
   "id": "9f73a403",
   "metadata": {},
   "outputs": [
    {
     "data": {
      "text/plain": [
       "NoneType"
      ]
     },
     "execution_count": 5,
     "metadata": {},
     "output_type": "execute_result"
    }
   ],
   "source": [
    "type(None)"
   ]
  },
  {
   "cell_type": "code",
   "execution_count": null,
   "id": "1c14c374",
   "metadata": {},
   "outputs": [],
   "source": [
    "11. What does the sentence import areallyourpetsnamederic do?"
   ]
  },
  {
   "cell_type": "markdown",
   "id": "04faa97a",
   "metadata": {},
   "source": [
    "it will import's the data named  areallyourpetsnamederic"
   ]
  },
  {
   "cell_type": "code",
   "execution_count": null,
   "id": "3bf007aa",
   "metadata": {},
   "outputs": [],
   "source": [
    "12. If you had a bacon() feature in a spam module, what would you call it after importing spam?"
   ]
  },
  {
   "cell_type": "markdown",
   "id": "2582f56a",
   "metadata": {},
   "source": [
    "import spam.(bacon)"
   ]
  },
  {
   "cell_type": "code",
   "execution_count": null,
   "id": "5765b250",
   "metadata": {},
   "outputs": [],
   "source": [
    "13. What can you do to save a programme from crashing if it encounters an error?"
   ]
  },
  {
   "cell_type": "markdown",
   "id": "e3d1beca",
   "metadata": {},
   "source": [
    "we can use except to handle if it enocounters an error"
   ]
  },
  {
   "cell_type": "code",
   "execution_count": null,
   "id": "1ce95abe",
   "metadata": {},
   "outputs": [],
   "source": [
    "14. What is the purpose of the try clause? What is the purpose of the except clause?"
   ]
  },
  {
   "cell_type": "markdown",
   "id": "b02e11cd",
   "metadata": {},
   "source": [
    "if the code which might cause an error will be used as try clause, and an code which is creating an error will be in the Except clause"
   ]
  },
  {
   "cell_type": "code",
   "execution_count": null,
   "id": "8a0d6dd8",
   "metadata": {},
   "outputs": [],
   "source": []
  }
 ],
 "metadata": {
  "kernelspec": {
   "display_name": "Python 3 (ipykernel)",
   "language": "python",
   "name": "python3"
  },
  "language_info": {
   "codemirror_mode": {
    "name": "ipython",
    "version": 3
   },
   "file_extension": ".py",
   "mimetype": "text/x-python",
   "name": "python",
   "nbconvert_exporter": "python",
   "pygments_lexer": "ipython3",
   "version": "3.9.7"
  }
 },
 "nbformat": 4,
 "nbformat_minor": 5
}
