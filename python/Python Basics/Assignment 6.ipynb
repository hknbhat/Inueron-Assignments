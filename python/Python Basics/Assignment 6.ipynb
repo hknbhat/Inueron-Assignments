{
 "cells": [
  {
   "cell_type": "code",
   "execution_count": null,
   "id": "da4487b9",
   "metadata": {},
   "outputs": [],
   "source": [
    "1. What are escape characters, and how do you use them?"
   ]
  },
  {
   "cell_type": "markdown",
   "id": "2bf0674a",
   "metadata": {},
   "source": [
    "in Python \"\\\" is the escape character, we can use in \"\\n\" or \"\\t\" whre its not possible to insert the data into the system we can use these escape characters. "
   ]
  },
  {
   "cell_type": "code",
   "execution_count": null,
   "id": "537f1be9",
   "metadata": {},
   "outputs": [],
   "source": [
    "2. What do the escape characters n and t stand for?"
   ]
  },
  {
   "cell_type": "markdown",
   "id": "fe146f5e",
   "metadata": {},
   "source": [
    "\\n- stands for adding the new line\n",
    "\\t- stands for adding the tab "
   ]
  },
  {
   "cell_type": "code",
   "execution_count": null,
   "id": "b3afe728",
   "metadata": {},
   "outputs": [],
   "source": [
    "3. What is the way to include backslash characters in a string?"
   ]
  },
  {
   "cell_type": "markdown",
   "id": "95504f3f",
   "metadata": {},
   "source": [
    "\\\\ will represent the backlash characters in a string."
   ]
  },
  {
   "cell_type": "code",
   "execution_count": null,
   "id": "2e3fdb42",
   "metadata": {},
   "outputs": [],
   "source": [
    "4. The string \"Howl's Moving Castle\" is a correct value. Why isn't the single quote character in the word Howl's not escaped a problem?"
   ]
  },
  {
   "cell_type": "markdown",
   "id": "07fb7bad",
   "metadata": {},
   "source": [
    "since the string is encoded in the double code it has escaped the error, if it was encoded in the single quotes then we have to use \"\\\""
   ]
  },
  {
   "cell_type": "code",
   "execution_count": null,
   "id": "c07c5e63",
   "metadata": {},
   "outputs": [],
   "source": [
    "5. How do you write a string of newlines if you don't want to use the n character?"
   ]
  },
  {
   "cell_type": "code",
   "execution_count": 3,
   "id": "11365ba5",
   "metadata": {},
   "outputs": [
    {
     "name": "stdout",
     "output_type": "stream",
     "text": [
      " above the ground \n",
      "there is sky \n"
     ]
    }
   ],
   "source": [
    "h=''' above the ground \n",
    "there is sky '''\n",
    "print(h)"
   ]
  },
  {
   "cell_type": "markdown",
   "id": "9f9f4722",
   "metadata": {},
   "source": [
    "6. What are the values of the given expressions?\n",
    "'Hello, world!'[1]\n",
    "'Hello, world!'[0:5]\n",
    "'Hello, world!'[:5]\n",
    "'Hello, world!'[3:]\n"
   ]
  },
  {
   "cell_type": "code",
   "execution_count": 9,
   "id": "6715dbfa",
   "metadata": {},
   "outputs": [
    {
     "data": {
      "text/plain": [
       "'Hello'"
      ]
     },
     "execution_count": 9,
     "metadata": {},
     "output_type": "execute_result"
    }
   ],
   "source": [
    "'Hello, world!'[0:5]"
   ]
  },
  {
   "cell_type": "code",
   "execution_count": 10,
   "id": "0d3b96e5",
   "metadata": {},
   "outputs": [
    {
     "data": {
      "text/plain": [
       "'Hello'"
      ]
     },
     "execution_count": 10,
     "metadata": {},
     "output_type": "execute_result"
    }
   ],
   "source": [
    "'Hello, world!'[:5]"
   ]
  },
  {
   "cell_type": "code",
   "execution_count": 11,
   "id": "0c7d6c11",
   "metadata": {},
   "outputs": [
    {
     "data": {
      "text/plain": [
       "'lo, world!'"
      ]
     },
     "execution_count": 11,
     "metadata": {},
     "output_type": "execute_result"
    }
   ],
   "source": [
    "'Hello, world!'[3:]"
   ]
  },
  {
   "cell_type": "code",
   "execution_count": 12,
   "id": "04e4a353",
   "metadata": {},
   "outputs": [
    {
     "data": {
      "text/plain": [
       "'e'"
      ]
     },
     "execution_count": 12,
     "metadata": {},
     "output_type": "execute_result"
    }
   ],
   "source": [
    "'Hello, world!'[1]"
   ]
  },
  {
   "cell_type": "code",
   "execution_count": null,
   "id": "dd91d666",
   "metadata": {},
   "outputs": [],
   "source": [
    "7. What are the values of the following expressions?\n",
    "'Hello'.upper()\n",
    "'Hello'.upper().isupper()\n",
    "'Hello'.upper().lower()\n"
   ]
  },
  {
   "cell_type": "code",
   "execution_count": 13,
   "id": "9ae0c709",
   "metadata": {},
   "outputs": [
    {
     "data": {
      "text/plain": [
       "'HELLO'"
      ]
     },
     "execution_count": 13,
     "metadata": {},
     "output_type": "execute_result"
    }
   ],
   "source": [
    "'Hello'.upper()"
   ]
  },
  {
   "cell_type": "markdown",
   "id": "e096986e",
   "metadata": {},
   "source": [
    "'Hello'.upper() - cobnverts the string to upper case\n",
    "'Hello'.upper().isupper() - converts the lower case string to upper case and checks the conversion has taken place and yeild the result in terms of true or false\n",
    "'Hello'.upper().lower()- converts the whole string to upper and then into lower case\n"
   ]
  },
  {
   "cell_type": "code",
   "execution_count": null,
   "id": "3ce68ac7",
   "metadata": {},
   "outputs": [],
   "source": [
    "8. What are the values of the following expressions?\n",
    "'Remember, remember, the fifth of July.'.split()\n",
    "'-'.join('There can only one.'.split())\n"
   ]
  },
  {
   "cell_type": "code",
   "execution_count": 15,
   "id": "4cbb0810",
   "metadata": {},
   "outputs": [
    {
     "data": {
      "text/plain": [
       "['Remember,', 'remember,', 'the', 'fifth', 'of', 'July.']"
      ]
     },
     "execution_count": 15,
     "metadata": {},
     "output_type": "execute_result"
    }
   ],
   "source": [
    "'Remember, remember, the fifth of July.'.split() it will split the whole string"
   ]
  },
  {
   "cell_type": "code",
   "execution_count": 16,
   "id": "39118886",
   "metadata": {},
   "outputs": [
    {
     "data": {
      "text/plain": [
       "'There-can-only-one.'"
      ]
     },
     "execution_count": 16,
     "metadata": {},
     "output_type": "execute_result"
    }
   ],
   "source": [
    "'-'.join('There can only one.'.split())"
   ]
  },
  {
   "cell_type": "code",
   "execution_count": null,
   "id": "67c717c5",
   "metadata": {},
   "outputs": [],
   "source": [
    "9. What are the methods for right-justifying, left-justifying, and centering a string?"
   ]
  },
  {
   "cell_type": "markdown",
   "id": "05c0c9be",
   "metadata": {},
   "source": [
    " ljust(), rjust(), center() are the methods to justify the string"
   ]
  },
  {
   "cell_type": "code",
   "execution_count": null,
   "id": "7ebf7a35",
   "metadata": {},
   "outputs": [],
   "source": [
    "10. What is the best way to remove whitespace characters from the start or end?"
   ]
  },
  {
   "cell_type": "code",
   "execution_count": null,
   "id": "05f27277",
   "metadata": {},
   "outputs": [],
   "source": [
    "lstrip(),rstrip() are the methods of removing the whitestrip from the characters."
   ]
  }
 ],
 "metadata": {
  "kernelspec": {
   "display_name": "Python 3 (ipykernel)",
   "language": "python",
   "name": "python3"
  },
  "language_info": {
   "codemirror_mode": {
    "name": "ipython",
    "version": 3
   },
   "file_extension": ".py",
   "mimetype": "text/x-python",
   "name": "python",
   "nbconvert_exporter": "python",
   "pygments_lexer": "ipython3",
   "version": "3.9.7"
  }
 },
 "nbformat": 4,
 "nbformat_minor": 5
}
