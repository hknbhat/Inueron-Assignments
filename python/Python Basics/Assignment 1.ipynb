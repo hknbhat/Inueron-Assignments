{
 "cells": [
  {
   "cell_type": "raw",
   "id": "9794ee40",
   "metadata": {},
   "source": [
    "#1. In the below elements which of them are values or an expression? eg:- values can be integer or string and expressions will be mathematical operators.\n",
    "* ,'hello',-87.8,- ,/ ,+\t,6 \n",
    "\n",
    "Ans:\n",
    "Values:-87.8,6,'hello'\n",
    "Expression's:*,+,/,-\n",
    "\n"
   ]
  },
  {
   "cell_type": "raw",
   "id": "de497166",
   "metadata": {},
   "source": [
    "#2What is the difference between string and variable?\n",
    "Ans:\n",
    "String: it is set of information or a set of characters that you want to store, either it might be numeric or character or a value. \n",
    "Variable: Variable is the key where you can store a srting, by entering the value of variable we shoud be able to fetch the string.Always Variable has to be a alphabetic. \n"
   ]
  },
  {
   "cell_type": "raw",
   "id": "c6e5372b",
   "metadata": {},
   "source": [
    "#3Describe three different data types.\n",
    "Ans: \n",
    "Different types of data tytpes are:\n",
    "1)INT: which is used to represent the data of whole number.\n",
    "2)Float; its a type of data type which is used to  the floating point no or the decimal's.\n",
    "3)Complex:its the data type where we have complex number"
   ]
  },
  {
   "cell_type": "raw",
   "id": "6a4d4bf2",
   "metadata": {},
   "source": [
    "#4What is an expression made up of? What do all expressions do?\n",
    "Ans:\n",
    "An expression is made up of different requisite, by which we can yeild certian values in return.\n",
    "Expression are made up of values, operators. Interpreter evaluates the expression and yeild the results.\n"
   ]
  },
  {
   "cell_type": "raw",
   "id": "ccbde919",
   "metadata": {},
   "source": [
    "#5. This assignment statements, like spam = 10. What is the difference between an expression and a statement?\n",
    "Ans:\n",
    "Expression: Expression  is the set of values and functions which will be interpreted into an new value as result.\n",
    "Ex: a=4*4\n",
    "Statements: In case of statements its just an line by which we will not yeild any result \n",
    "Ex: b=\"this is the first line\"\n"
   ]
  },
  {
   "cell_type": "raw",
   "id": "b4358616",
   "metadata": {},
   "source": [
    "#6. After running the following code, what does the variable bacon contain?\n",
    "bacon = 22\n",
    "bacon + 1\n",
    "Ans: Variable bacon contains the value as 23\n"
   ]
  },
  {
   "cell_type": "code",
   "execution_count": 6,
   "id": "3b86c2b0",
   "metadata": {},
   "outputs": [
    {
     "data": {
      "text/plain": [
       "23"
      ]
     },
     "execution_count": 6,
     "metadata": {},
     "output_type": "execute_result"
    }
   ],
   "source": [
    "bacon = 22\n",
    "bacon + 1"
   ]
  },
  {
   "cell_type": "raw",
   "id": "0179ab59",
   "metadata": {},
   "source": [
    "7. What should the values of the following two terms be?\n",
    "'spam' + 'spamspam'\n",
    "'spam' * 3\n",
    "Ans: 'spamspamspam'\n"
   ]
  },
  {
   "cell_type": "code",
   "execution_count": 7,
   "id": "c79371ea",
   "metadata": {},
   "outputs": [
    {
     "data": {
      "text/plain": [
       "'spamspamspam'"
      ]
     },
     "execution_count": 7,
     "metadata": {},
     "output_type": "execute_result"
    }
   ],
   "source": [
    "'spam' + 'spamspam'\n",
    "'spam' * 3"
   ]
  },
  {
   "cell_type": "code",
   "execution_count": 8,
   "id": "f00c9c7f",
   "metadata": {},
   "outputs": [
    {
     "data": {
      "text/plain": [
       "'spamspamspam'"
      ]
     },
     "execution_count": 8,
     "metadata": {},
     "output_type": "execute_result"
    }
   ],
   "source": [
    "'spam' + 'spamspam'"
   ]
  },
  {
   "cell_type": "code",
   "execution_count": 9,
   "id": "4291f534",
   "metadata": {},
   "outputs": [
    {
     "data": {
      "text/plain": [
       "'spamspamspam'"
      ]
     },
     "execution_count": 9,
     "metadata": {},
     "output_type": "execute_result"
    }
   ],
   "source": [
    "'spam' * 3"
   ]
  },
  {
   "cell_type": "raw",
   "id": "a0fbed7a",
   "metadata": {},
   "source": [
    "8. Why is eggs a valid variable name while 100 is invalid?\n",
    "Ans:\n",
    "Always the variable we are providing it should be in Alphabetic, any integer value will not be accepted."
   ]
  },
  {
   "cell_type": "code",
   "execution_count": null,
   "id": "4b75c339",
   "metadata": {},
   "outputs": [],
   "source": [
    "9. What three functions can be used to get the integer, floating-point number, or string version of a value?\n",
    "Ans:\n",
    "int()\n",
    "float()\n",
    "str()\n",
    "\n"
   ]
  },
  {
   "cell_type": "raw",
   "id": "fece710e",
   "metadata": {},
   "source": [
    "10. Why does this expression cause an error? How can you fix it?\n",
    "'I have eaten ' + 99 + ' burritos.'\n",
    "Ans:\n",
    "Since the  statement contains the both alpha and num we cannot merge both. we need to typecast the int vale to string and we are able to fix the issue"
   ]
  },
  {
   "cell_type": "code",
   "execution_count": 11,
   "id": "5108b48e",
   "metadata": {},
   "outputs": [
    {
     "data": {
      "text/plain": [
       "'I have eaten 99 burritos.'"
      ]
     },
     "execution_count": 11,
     "metadata": {},
     "output_type": "execute_result"
    }
   ],
   "source": [
    "'I have eaten ' + str(99) + ' burritos.'"
   ]
  },
  {
   "cell_type": "code",
   "execution_count": null,
   "id": "703d2cc2",
   "metadata": {},
   "outputs": [],
   "source": []
  }
 ],
 "metadata": {
  "kernelspec": {
   "display_name": "Python 3 (ipykernel)",
   "language": "python",
   "name": "python3"
  },
  "language_info": {
   "codemirror_mode": {
    "name": "ipython",
    "version": 3
   },
   "file_extension": ".py",
   "mimetype": "text/x-python",
   "name": "python",
   "nbconvert_exporter": "python",
   "pygments_lexer": "ipython3",
   "version": "3.9.7"
  },
  "widgets": {
   "application/vnd.jupyter.widget-state+json": {
    "state": {},
    "version_major": 2,
    "version_minor": 0
   }
  }
 },
 "nbformat": 4,
 "nbformat_minor": 5
}
