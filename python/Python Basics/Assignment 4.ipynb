{
 "cells": [
  {
   "cell_type": "code",
   "execution_count": null,
   "id": "2012af58",
   "metadata": {},
   "outputs": [],
   "source": [
    "1. What exactly is []?"
   ]
  },
  {
   "cell_type": "markdown",
   "id": "07708a20",
   "metadata": {},
   "source": [
    "Ans:[] is an Empty List"
   ]
  },
  {
   "cell_type": "code",
   "execution_count": null,
   "id": "47ac2a61",
   "metadata": {},
   "outputs": [],
   "source": [
    "2. In a list of values stored in a variable called spam, how would you assign the value 'hello' as the third value? (Assume [2, 4, 6, 8, 10] are in spam.)"
   ]
  },
  {
   "cell_type": "code",
   "execution_count": 2,
   "id": "849ce18c",
   "metadata": {},
   "outputs": [],
   "source": [
    "spam=[2, 4, 6, 8, 10]"
   ]
  },
  {
   "cell_type": "code",
   "execution_count": 3,
   "id": "44533683",
   "metadata": {},
   "outputs": [],
   "source": [
    "spam[2]=\"hello\""
   ]
  },
  {
   "cell_type": "code",
   "execution_count": 5,
   "id": "4526b8d2",
   "metadata": {},
   "outputs": [
    {
     "name": "stdout",
     "output_type": "stream",
     "text": [
      "[2, 4, 'hello', 8, 10]\n"
     ]
    }
   ],
   "source": [
    "print(spam)"
   ]
  },
  {
   "cell_type": "code",
   "execution_count": null,
   "id": "7fdb690f",
   "metadata": {},
   "outputs": [],
   "source": [
    "Let's pretend the spam includes the list ['a', 'b', 'c', 'd'] for the next three queries.\n",
    "3. What is the value of spam[int(int('3' * 2) / 11)]?"
   ]
  },
  {
   "cell_type": "code",
   "execution_count": null,
   "id": "915d2abb",
   "metadata": {},
   "outputs": [],
   "source": [
    "4. What is the value of spam[-1]?"
   ]
  },
  {
   "cell_type": "code",
   "execution_count": 28,
   "id": "2da91318",
   "metadata": {
    "scrolled": true
   },
   "outputs": [
    {
     "name": "stdout",
     "output_type": "stream",
     "text": [
      "spam[-1] : d\n"
     ]
    }
   ],
   "source": [
    "spam=['a', 'b', 'c', 'd']\n",
    "print('spam[-1] :',spam[-1])"
   ]
  },
  {
   "cell_type": "code",
   "execution_count": null,
   "id": "25b2191c",
   "metadata": {},
   "outputs": [],
   "source": [
    "5. What is the value of spam[:2]?"
   ]
  },
  {
   "cell_type": "code",
   "execution_count": 18,
   "id": "502fc9a3",
   "metadata": {},
   "outputs": [
    {
     "name": "stdout",
     "output_type": "stream",
     "text": [
      "['a', 'b']\n"
     ]
    }
   ],
   "source": [
    "print(spam[:2])"
   ]
  },
  {
   "cell_type": "code",
   "execution_count": 37,
   "id": "12c375d5",
   "metadata": {},
   "outputs": [],
   "source": [
    "bacon=[3.14,'cat',11,'cat',True] "
   ]
  },
  {
   "cell_type": "code",
   "execution_count": null,
   "id": "2e05e583",
   "metadata": {},
   "outputs": [],
   "source": [
    "What is the value of bacon.index('cat')?"
   ]
  },
  {
   "cell_type": "code",
   "execution_count": 29,
   "id": "9619d4db",
   "metadata": {},
   "outputs": [
    {
     "name": "stdout",
     "output_type": "stream",
     "text": [
      "bacon.index('cat') :  1\n"
     ]
    }
   ],
   "source": [
    "print(\"bacon.index('cat') : \",bacon.index('cat'))"
   ]
  },
  {
   "cell_type": "code",
   "execution_count": null,
   "id": "c98ee444",
   "metadata": {},
   "outputs": [],
   "source": [
    "7. How does bacon.append(99) change the look of the list value in bacon?"
   ]
  },
  {
   "cell_type": "code",
   "execution_count": 38,
   "id": "56db975c",
   "metadata": {},
   "outputs": [
    {
     "data": {
      "text/plain": [
       "[3.14, 'cat', 11, 'cat', True, 99]"
      ]
     },
     "execution_count": 38,
     "metadata": {},
     "output_type": "execute_result"
    }
   ],
   "source": [
    "bacon.append(99)\n",
    "bacon\n",
    "the statement bacon.append will append the data at last "
   ]
  },
  {
   "cell_type": "code",
   "execution_count": null,
   "id": "e117de99",
   "metadata": {},
   "outputs": [],
   "source": [
    "8. How does bacon.remove('cat') change the look of the list in bacon?"
   ]
  },
  {
   "cell_type": "code",
   "execution_count": 39,
   "id": "c9a451ba",
   "metadata": {},
   "outputs": [
    {
     "data": {
      "text/plain": [
       "[3.14, 11, 'cat', True, 99]"
      ]
     },
     "execution_count": 39,
     "metadata": {},
     "output_type": "execute_result"
    }
   ],
   "source": [
    "bacon.remove('cat')\n",
    "bacon\n",
    "this function will remove the 'cat' from the list bacon"
   ]
  },
  {
   "cell_type": "code",
   "execution_count": null,
   "id": "9202953b",
   "metadata": {},
   "outputs": [],
   "source": [
    "9. What are the list concatenation and list replication operators?"
   ]
  },
  {
   "cell_type": "markdown",
   "id": "5ccf7cf4",
   "metadata": {},
   "source": [
    "for concatination we will use + operator ex:'list1'+'lsit2'\n",
    "for replication we will use * operator ex:'list1'*'list2'\n"
   ]
  },
  {
   "cell_type": "code",
   "execution_count": null,
   "id": "9f295c63",
   "metadata": {},
   "outputs": [],
   "source": [
    "10. What is difference between the list methods append() and insert()?"
   ]
  },
  {
   "cell_type": "markdown",
   "id": "714ab76f",
   "metadata": {},
   "source": [
    "considering the l=[]\n",
    "l.append()= operator appends the data to  the list at last inedx.\n",
    "l.insert()= operator insert the data to the list anuwhere according the indexing we have provided "
   ]
  },
  {
   "cell_type": "code",
   "execution_count": null,
   "id": "83fa3da6",
   "metadata": {},
   "outputs": [],
   "source": [
    "11. What are the two methods for removing items from a list?"
   ]
  },
  {
   "cell_type": "markdown",
   "id": "4f523c46",
   "metadata": {},
   "source": [
    "remove(),del are two methods of removing the items from the list "
   ]
  },
  {
   "cell_type": "code",
   "execution_count": null,
   "id": "a3a3168f",
   "metadata": {},
   "outputs": [],
   "source": [
    "12. Describe how list values and string values are identical."
   ]
  },
  {
   "cell_type": "markdown",
   "id": "d4df985f",
   "metadata": {},
   "source": [
    "list and string values can be sliced through indexing\n",
    "list and strring values can be replaced at any indexes"
   ]
  },
  {
   "cell_type": "code",
   "execution_count": null,
   "id": "15f24eeb",
   "metadata": {},
   "outputs": [],
   "source": [
    "13. What's the difference between tuples and lists?"
   ]
  },
  {
   "cell_type": "markdown",
   "id": "831b454a",
   "metadata": {},
   "source": [
    "List: List are mutable hence data provided in the list can be changed or replaced.\n",
    "tuple: Tuple are immutable , hence the data in the tuple cannot be channged  or replaced"
   ]
  },
  {
   "cell_type": "code",
   "execution_count": null,
   "id": "db684cdd",
   "metadata": {},
   "outputs": [],
   "source": [
    "14. How do you type a tuple value that only contains the integer 42?"
   ]
  },
  {
   "cell_type": "code",
   "execution_count": 42,
   "id": "211e9674",
   "metadata": {},
   "outputs": [
    {
     "data": {
      "text/plain": [
       "tuple"
      ]
     },
     "execution_count": 42,
     "metadata": {},
     "output_type": "execute_result"
    }
   ],
   "source": [
    "a=(42,)\n",
    "type(a)"
   ]
  },
  {
   "cell_type": "code",
   "execution_count": null,
   "id": "e28812ab",
   "metadata": {},
   "outputs": [],
   "source": [
    "15. How do you get a list value's tuple form? How do you get a tuple value's list form?"
   ]
  },
  {
   "cell_type": "markdown",
   "id": "70745a84",
   "metadata": {},
   "source": [
    "we need to convert either tuple to list or viceversa"
   ]
  },
  {
   "cell_type": "code",
   "execution_count": null,
   "id": "f4cafc7c",
   "metadata": {},
   "outputs": [],
   "source": [
    "16. Variables that \"contain\" list values are not necessarily lists themselves. Instead, what do they contain?"
   ]
  },
  {
   "cell_type": "markdown",
   "id": "85b743ce",
   "metadata": {},
   "source": [
    "they contain reference list values"
   ]
  },
  {
   "cell_type": "code",
   "execution_count": null,
   "id": "b85d40a3",
   "metadata": {},
   "outputs": [],
   "source": [
    "17. How do you distinguish between copy.copy() and copy.deepcopy()?"
   ]
  },
  {
   "cell_type": "markdown",
   "id": "4c43af07",
   "metadata": {},
   "source": [
    "copy.copy(): creates a duplicate item of the data, which will change when the original value of data is changed.\n",
    "copy.deepcopy(): creates a duplicate value which is independent of original data.even if we change the orighinal data  the copied data will not change\n"
   ]
  },
  {
   "cell_type": "code",
   "execution_count": null,
   "id": "5c1fb7d5",
   "metadata": {},
   "outputs": [],
   "source": []
  },
  {
   "cell_type": "code",
   "execution_count": null,
   "id": "b05594d4",
   "metadata": {},
   "outputs": [],
   "source": []
  }
 ],
 "metadata": {
  "kernelspec": {
   "display_name": "Python 3 (ipykernel)",
   "language": "python",
   "name": "python3"
  },
  "language_info": {
   "codemirror_mode": {
    "name": "ipython",
    "version": 3
   },
   "file_extension": ".py",
   "mimetype": "text/x-python",
   "name": "python",
   "nbconvert_exporter": "python",
   "pygments_lexer": "ipython3",
   "version": "3.9.7"
  }
 },
 "nbformat": 4,
 "nbformat_minor": 5
}
