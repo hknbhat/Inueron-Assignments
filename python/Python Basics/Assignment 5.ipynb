{
 "cells": [
  {
   "cell_type": "code",
   "execution_count": null,
   "id": "51eee5e4",
   "metadata": {},
   "outputs": [],
   "source": [
    "1. What does an empty dictionary's code look like?"
   ]
  },
  {
   "cell_type": "markdown",
   "id": "9b9e64b4",
   "metadata": {},
   "source": [
    "d={}"
   ]
  },
  {
   "cell_type": "code",
   "execution_count": null,
   "id": "ec3d708d",
   "metadata": {},
   "outputs": [],
   "source": [
    "2. What is the value of a dictionary value with the key 'foo' and the value 42?"
   ]
  },
  {
   "cell_type": "markdown",
   "id": "e87cd6d6",
   "metadata": {},
   "source": [
    "d={'foo':42}"
   ]
  },
  {
   "cell_type": "code",
   "execution_count": null,
   "id": "4946d45d",
   "metadata": {},
   "outputs": [],
   "source": [
    "3. What is the most significant distinction between a dictionary and a list?"
   ]
  },
  {
   "cell_type": "markdown",
   "id": "6867cc71",
   "metadata": {},
   "source": [
    "list which is defined by [],and dictionary is defined by{},\n",
    "list usually have the value but the dictionary have the key and the value "
   ]
  },
  {
   "cell_type": "code",
   "execution_count": null,
   "id": "ec76aa64",
   "metadata": {},
   "outputs": [],
   "source": [
    "4. What happens if you try to access spam['foo'] if spam is {'bar': 100}?"
   ]
  },
  {
   "cell_type": "code",
   "execution_count": 4,
   "id": "73ddad8a",
   "metadata": {},
   "outputs": [
    {
     "ename": "KeyError",
     "evalue": "'foo'",
     "output_type": "error",
     "traceback": [
      "\u001b[1;31m---------------------------------------------------------------------------\u001b[0m",
      "\u001b[1;31mKeyError\u001b[0m                                  Traceback (most recent call last)",
      "\u001b[1;32m~\\AppData\\Local\\Temp/ipykernel_8252/2977207769.py\u001b[0m in \u001b[0;36m<module>\u001b[1;34m\u001b[0m\n\u001b[0;32m      1\u001b[0m \u001b[0mspam\u001b[0m\u001b[1;33m=\u001b[0m\u001b[1;33m{\u001b[0m\u001b[1;34m'bar'\u001b[0m\u001b[1;33m:\u001b[0m \u001b[1;36m100\u001b[0m\u001b[1;33m}\u001b[0m\u001b[1;33m\u001b[0m\u001b[1;33m\u001b[0m\u001b[0m\n\u001b[1;32m----> 2\u001b[1;33m \u001b[0mspam\u001b[0m\u001b[1;33m[\u001b[0m\u001b[1;34m'foo'\u001b[0m\u001b[1;33m]\u001b[0m\u001b[1;33m\u001b[0m\u001b[1;33m\u001b[0m\u001b[0m\n\u001b[0m",
      "\u001b[1;31mKeyError\u001b[0m: 'foo'"
     ]
    }
   ],
   "source": [
    "spam={'bar': 100}\n",
    "spam['foo']\n",
    "it will yeild in an error called as KeyError"
   ]
  },
  {
   "cell_type": "code",
   "execution_count": null,
   "id": "6fdfecb0",
   "metadata": {},
   "outputs": [],
   "source": [
    "5. If a dictionary is stored in spam, what is the difference between the expressions 'cat' in spam and 'cat' in spam.keys()?"
   ]
  },
  {
   "cell_type": "markdown",
   "id": "64575716",
   "metadata": {},
   "source": [
    "cat in spam or cat in spam .keys() both are same, the function will checks value is present in keys or not"
   ]
  },
  {
   "cell_type": "code",
   "execution_count": null,
   "id": "8dda7b3a",
   "metadata": {},
   "outputs": [],
   "source": [
    "6. If a dictionary is stored in spam, what is the difference between the expressions 'cat' in spam and 'cat' in spam.values()?"
   ]
  },
  {
   "cell_type": "code",
   "execution_count": null,
   "id": "f8974f19",
   "metadata": {},
   "outputs": [],
   "source": [
    "'cat' in spam checks whether there is a 'cat' key in the dictionary,'cat' in spam.values() checks whether is thereany value for the key in spam"
   ]
  },
  {
   "cell_type": "code",
   "execution_count": 8,
   "id": "65324628",
   "metadata": {},
   "outputs": [
    {
     "data": {
      "text/plain": [
       "'black'"
      ]
     },
     "execution_count": 8,
     "metadata": {},
     "output_type": "execute_result"
    }
   ],
   "source": [
    "7. What is a shortcut for the following code?\n",
    "if 'color' not in spam:spam['color'] = 'black'\n",
    "spam.setdefault('color','black')\n"
   ]
  },
  {
   "cell_type": "code",
   "execution_count": null,
   "id": "3720e4a5",
   "metadata": {},
   "outputs": [],
   "source": [
    "8. How do you \"pretty print\" dictionary values using which module and function?"
   ]
  },
  {
   "cell_type": "code",
   "execution_count": null,
   "id": "9c3f93f3",
   "metadata": {},
   "outputs": [],
   "source": [
    "dont know the answer for last one"
   ]
  }
 ],
 "metadata": {
  "kernelspec": {
   "display_name": "Python 3 (ipykernel)",
   "language": "python",
   "name": "python3"
  },
  "language_info": {
   "codemirror_mode": {
    "name": "ipython",
    "version": 3
   },
   "file_extension": ".py",
   "mimetype": "text/x-python",
   "name": "python",
   "nbconvert_exporter": "python",
   "pygments_lexer": "ipython3",
   "version": "3.9.7"
  }
 },
 "nbformat": 4,
 "nbformat_minor": 5
}
